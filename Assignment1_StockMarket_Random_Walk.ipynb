{
  "nbformat": 4,
  "nbformat_minor": 0,
  "metadata": {
    "colab": {
      "name": "Assignment1_StockMarket_Random_Walk.ipynb",
      "provenance": [],
      "collapsed_sections": [],
      "toc_visible": true
    },
    "kernelspec": {
      "name": "python3",
      "display_name": "Python 3"
    }
  },
  "cells": [
    {
      "cell_type": "code",
      "metadata": {
        "id": "jIMzRHDJq9r0"
      },
      "source": [
        "import random\n",
        "import csv\n",
        "\n",
        "percent_change = 3 / 100\n",
        "def stockmarket_randomwalk(num1,num2):\n",
        "  day = 1\n",
        "  price_hike_days = 0\n",
        "  price_sink_days = 0\n",
        "  price_same_days = 0\n",
        "  price_var = 0\n",
        "  for i in range (0,num2,1):\n",
        "    price_var = random.randint(-1,1)\n",
        "    if price_var == -1:\n",
        "      price_sink_days += 1\n",
        "    elif price_var == 1:\n",
        "      price_hike_days += 1\n",
        "    else:\n",
        "      price_same_days += 1\n",
        "    num1 = round(num1 * (1 + (percent_change * price_var)),2)                   #Calculating the new price and rounding it to 2 decimal digits\n",
        "  return num1,price_hike_days,price_sink_days\n"
      ],
      "execution_count": 27,
      "outputs": []
    },
    {
      "cell_type": "code",
      "metadata": {
        "id": "ti1vLATBmCpi"
      },
      "source": [
        "def write_result(col1,col2,col3,col4,col5):                                     #Function to write the results to csv file\n",
        "  with open('/content/drive/MyDrive/Colab Notebooks/randwalk.csv','a') as file:\n",
        "      writer = csv.writer(file, lineterminator='\\n')\n",
        "      row_data = [col1,col2,col3,col4,col5]\n",
        "      writer.writerow(row_data)\n",
        "  return"
      ],
      "execution_count": 28,
      "outputs": []
    },
    {
      "cell_type": "code",
      "metadata": {
        "id": "L54jbWitnvv-"
      },
      "source": [
        "try:\n",
        "  open('/content/drive/MyDrive/Colab Notebooks/randwalk.csv','x')                         #creating a csv file\n",
        "\n",
        "  with open('/content/drive/MyDrive/Colab Notebooks/randwalk.csv','a') as file:           #Giving titles to the columns\n",
        "    writer = csv.writer(file, lineterminator='\\n')\n",
        "    rowtitles = ['Initial Price','Days','Final Price','Price increased','Price decreased']\n",
        "    writer.writerow(rowtitles)\n",
        "\n",
        "  simulation_req = \"yes\"\n",
        "  while simulation_req == \"yes\":\n",
        "    init_stockprice = int(input(\"Please enter the initial price of the stock : \"))\n",
        "    sim_days = int(input(\"For how many days would you like to simulate? \"))\n",
        "    x = stockmarket_randomwalk(init_stockprice,sim_days)                                  #calling simulation function stockmarket_randomwalk\n",
        "    print(\"Initial price = \",init_stockprice)\n",
        "    print(\"Days = \",sim_days)\n",
        "    print(\"Final Price = \",x[0])\n",
        "    print(\"Price increased(days) = \",x[1])\n",
        "    print(\"Price decreased(days) = \",x[2])                                   \n",
        "    y = write_result(init_stockprice,sim_days,x[0],x[1],x[2])                             #calling function to write results to the file\n",
        "    simulation_req = input(\"Would you like to perform another simulation (Yes/No)? \").lower()\n",
        "\n",
        "except FileExistsError:\n",
        "  print(\"Caution!!. File already exists. Please delete the old file and run the program again!!\")\n",
        "\n",
        "except:\n",
        "  print(\"Warning!. Please enter Integer numbers only.\")"
      ],
      "execution_count": null,
      "outputs": []
    }
  ]
}